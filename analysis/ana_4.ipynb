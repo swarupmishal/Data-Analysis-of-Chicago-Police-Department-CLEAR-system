{
 "cells": [
  {
   "cell_type": "markdown",
   "metadata": {},
   "source": [
    "#  Analysis 4\n",
    "## Analyzing Monthly Domestic Violence in last 5 years"
   ]
  },
  {
   "cell_type": "code",
   "execution_count": 1,
   "metadata": {
    "collapsed": true
   },
   "outputs": [],
   "source": [
    "#Import the required packages\n",
    "import numpy as np\n",
    "import pandas as pd\n",
    "import matplotlib.pyplot as plt\n",
    "import seaborn as sns\n",
    "import os\n",
    "import csv\n",
    "%matplotlib inline"
   ]
  },
  {
   "cell_type": "code",
   "execution_count": 10,
   "metadata": {
    "collapsed": true
   },
   "outputs": [],
   "source": [
    "#Read the input file\n",
    "df=pd.read_csv('../data/raw_data/Crimes_-_2001_to_present.csv', index_col = 'Date')"
   ]
  },
  {
   "cell_type": "code",
   "execution_count": 11,
   "metadata": {
    "collapsed": false
   },
   "outputs": [
    {
     "data": {
      "text/html": [
       "<div>\n",
       "<table border=\"1\" class=\"dataframe\">\n",
       "  <thead>\n",
       "    <tr style=\"text-align: right;\">\n",
       "      <th></th>\n",
       "      <th>ID</th>\n",
       "      <th>Case Number</th>\n",
       "      <th>Block</th>\n",
       "      <th>IUCR</th>\n",
       "      <th>Primary Type</th>\n",
       "      <th>Description</th>\n",
       "      <th>Location Description</th>\n",
       "      <th>Arrest</th>\n",
       "      <th>Domestic</th>\n",
       "      <th>Beat</th>\n",
       "      <th>...</th>\n",
       "      <th>Ward</th>\n",
       "      <th>Community Area</th>\n",
       "      <th>FBI Code</th>\n",
       "      <th>X Coordinate</th>\n",
       "      <th>Y Coordinate</th>\n",
       "      <th>Year</th>\n",
       "      <th>Updated On</th>\n",
       "      <th>Latitude</th>\n",
       "      <th>Longitude</th>\n",
       "      <th>Location</th>\n",
       "    </tr>\n",
       "    <tr>\n",
       "      <th>Date</th>\n",
       "      <th></th>\n",
       "      <th></th>\n",
       "      <th></th>\n",
       "      <th></th>\n",
       "      <th></th>\n",
       "      <th></th>\n",
       "      <th></th>\n",
       "      <th></th>\n",
       "      <th></th>\n",
       "      <th></th>\n",
       "      <th></th>\n",
       "      <th></th>\n",
       "      <th></th>\n",
       "      <th></th>\n",
       "      <th></th>\n",
       "      <th></th>\n",
       "      <th></th>\n",
       "      <th></th>\n",
       "      <th></th>\n",
       "      <th></th>\n",
       "      <th></th>\n",
       "    </tr>\n",
       "  </thead>\n",
       "  <tbody>\n",
       "    <tr>\n",
       "      <th>08/07/2007 05:00:00 PM</th>\n",
       "      <td>5708019</td>\n",
       "      <td>HN516812</td>\n",
       "      <td>018XX W 103RD ST</td>\n",
       "      <td>1310</td>\n",
       "      <td>CRIMINAL DAMAGE</td>\n",
       "      <td>TO PROPERTY</td>\n",
       "      <td>CONSTRUCTION SITE</td>\n",
       "      <td>False</td>\n",
       "      <td>False</td>\n",
       "      <td>2213</td>\n",
       "      <td>...</td>\n",
       "      <td>19.0</td>\n",
       "      <td>72.0</td>\n",
       "      <td>14</td>\n",
       "      <td>1165922.0</td>\n",
       "      <td>1836379.0</td>\n",
       "      <td>2007</td>\n",
       "      <td>04/15/2016 08:55:02 AM</td>\n",
       "      <td>41.706602</td>\n",
       "      <td>-87.668011</td>\n",
       "      <td>(41.706601577, -87.668010676)</td>\n",
       "    </tr>\n",
       "    <tr>\n",
       "      <th>08/07/2007 09:00:00 PM</th>\n",
       "      <td>5708022</td>\n",
       "      <td>HN515380</td>\n",
       "      <td>066XX S ELLIS AVE</td>\n",
       "      <td>1811</td>\n",
       "      <td>NARCOTICS</td>\n",
       "      <td>POSS: CANNABIS 30GMS OR LESS</td>\n",
       "      <td>SCHOOL, PUBLIC, BUILDING</td>\n",
       "      <td>False</td>\n",
       "      <td>False</td>\n",
       "      <td>321</td>\n",
       "      <td>...</td>\n",
       "      <td>5.0</td>\n",
       "      <td>42.0</td>\n",
       "      <td>18</td>\n",
       "      <td>1184028.0</td>\n",
       "      <td>1861290.0</td>\n",
       "      <td>2007</td>\n",
       "      <td>04/15/2016 08:55:02 AM</td>\n",
       "      <td>41.774557</td>\n",
       "      <td>-87.600931</td>\n",
       "      <td>(41.77455706, -87.600931147)</td>\n",
       "    </tr>\n",
       "    <tr>\n",
       "      <th>08/03/2007 10:00:00 AM</th>\n",
       "      <td>5708025</td>\n",
       "      <td>HN516837</td>\n",
       "      <td>054XX W WINDSOR AVE</td>\n",
       "      <td>1310</td>\n",
       "      <td>CRIMINAL DAMAGE</td>\n",
       "      <td>TO PROPERTY</td>\n",
       "      <td>RESIDENCE</td>\n",
       "      <td>False</td>\n",
       "      <td>False</td>\n",
       "      <td>1623</td>\n",
       "      <td>...</td>\n",
       "      <td>45.0</td>\n",
       "      <td>15.0</td>\n",
       "      <td>14</td>\n",
       "      <td>1139275.0</td>\n",
       "      <td>1929741.0</td>\n",
       "      <td>2007</td>\n",
       "      <td>04/15/2016 08:55:02 AM</td>\n",
       "      <td>41.963325</td>\n",
       "      <td>-87.763324</td>\n",
       "      <td>(41.963324609, -87.763324045)</td>\n",
       "    </tr>\n",
       "    <tr>\n",
       "      <th>08/03/2007 04:30:00 PM</th>\n",
       "      <td>5708028</td>\n",
       "      <td>HN516787</td>\n",
       "      <td>001XX N STATE ST</td>\n",
       "      <td>0820</td>\n",
       "      <td>THEFT</td>\n",
       "      <td>$500 AND UNDER</td>\n",
       "      <td>GROCERY FOOD STORE</td>\n",
       "      <td>False</td>\n",
       "      <td>False</td>\n",
       "      <td>122</td>\n",
       "      <td>...</td>\n",
       "      <td>42.0</td>\n",
       "      <td>32.0</td>\n",
       "      <td>06</td>\n",
       "      <td>1176336.0</td>\n",
       "      <td>1901448.0</td>\n",
       "      <td>2007</td>\n",
       "      <td>04/15/2016 08:55:02 AM</td>\n",
       "      <td>41.884930</td>\n",
       "      <td>-87.627920</td>\n",
       "      <td>(41.884930201, -87.627919724)</td>\n",
       "    </tr>\n",
       "    <tr>\n",
       "      <th>07/29/2007 10:02:00 AM</th>\n",
       "      <td>5708029</td>\n",
       "      <td>HN495945</td>\n",
       "      <td>078XX S BENNETT AVE</td>\n",
       "      <td>2017</td>\n",
       "      <td>NARCOTICS</td>\n",
       "      <td>MANU/DELIVER:CRACK</td>\n",
       "      <td>VEHICLE NON-COMMERCIAL</td>\n",
       "      <td>True</td>\n",
       "      <td>False</td>\n",
       "      <td>414</td>\n",
       "      <td>...</td>\n",
       "      <td>8.0</td>\n",
       "      <td>43.0</td>\n",
       "      <td>18</td>\n",
       "      <td>1190231.0</td>\n",
       "      <td>1853330.0</td>\n",
       "      <td>2007</td>\n",
       "      <td>04/15/2016 08:55:02 AM</td>\n",
       "      <td>41.752567</td>\n",
       "      <td>-87.578448</td>\n",
       "      <td>(41.752566947, -87.578448404)</td>\n",
       "    </tr>\n",
       "  </tbody>\n",
       "</table>\n",
       "<p>5 rows × 21 columns</p>\n",
       "</div>"
      ],
      "text/plain": [
       "                             ID Case Number                Block  IUCR  \\\n",
       "Date                                                                     \n",
       "08/07/2007 05:00:00 PM  5708019    HN516812     018XX W 103RD ST  1310   \n",
       "08/07/2007 09:00:00 PM  5708022    HN515380    066XX S ELLIS AVE  1811   \n",
       "08/03/2007 10:00:00 AM  5708025    HN516837  054XX W WINDSOR AVE  1310   \n",
       "08/03/2007 04:30:00 PM  5708028    HN516787     001XX N STATE ST  0820   \n",
       "07/29/2007 10:02:00 AM  5708029    HN495945  078XX S BENNETT AVE  2017   \n",
       "\n",
       "                           Primary Type                   Description  \\\n",
       "Date                                                                    \n",
       "08/07/2007 05:00:00 PM  CRIMINAL DAMAGE                   TO PROPERTY   \n",
       "08/07/2007 09:00:00 PM        NARCOTICS  POSS: CANNABIS 30GMS OR LESS   \n",
       "08/03/2007 10:00:00 AM  CRIMINAL DAMAGE                   TO PROPERTY   \n",
       "08/03/2007 04:30:00 PM            THEFT                $500 AND UNDER   \n",
       "07/29/2007 10:02:00 AM        NARCOTICS            MANU/DELIVER:CRACK   \n",
       "\n",
       "                            Location Description Arrest Domestic  Beat  \\\n",
       "Date                                                                     \n",
       "08/07/2007 05:00:00 PM         CONSTRUCTION SITE  False    False  2213   \n",
       "08/07/2007 09:00:00 PM  SCHOOL, PUBLIC, BUILDING  False    False   321   \n",
       "08/03/2007 10:00:00 AM                 RESIDENCE  False    False  1623   \n",
       "08/03/2007 04:30:00 PM        GROCERY FOOD STORE  False    False   122   \n",
       "07/29/2007 10:02:00 AM    VEHICLE NON-COMMERCIAL   True    False   414   \n",
       "\n",
       "                                    ...                Ward  Community Area  \\\n",
       "Date                                ...                                       \n",
       "08/07/2007 05:00:00 PM              ...                19.0            72.0   \n",
       "08/07/2007 09:00:00 PM              ...                 5.0            42.0   \n",
       "08/03/2007 10:00:00 AM              ...                45.0            15.0   \n",
       "08/03/2007 04:30:00 PM              ...                42.0            32.0   \n",
       "07/29/2007 10:02:00 AM              ...                 8.0            43.0   \n",
       "\n",
       "                        FBI Code X Coordinate  Y Coordinate  Year  \\\n",
       "Date                                                                \n",
       "08/07/2007 05:00:00 PM        14    1165922.0     1836379.0  2007   \n",
       "08/07/2007 09:00:00 PM        18    1184028.0     1861290.0  2007   \n",
       "08/03/2007 10:00:00 AM        14    1139275.0     1929741.0  2007   \n",
       "08/03/2007 04:30:00 PM        06    1176336.0     1901448.0  2007   \n",
       "07/29/2007 10:02:00 AM        18    1190231.0     1853330.0  2007   \n",
       "\n",
       "                                    Updated On   Latitude  Longitude  \\\n",
       "Date                                                                   \n",
       "08/07/2007 05:00:00 PM  04/15/2016 08:55:02 AM  41.706602 -87.668011   \n",
       "08/07/2007 09:00:00 PM  04/15/2016 08:55:02 AM  41.774557 -87.600931   \n",
       "08/03/2007 10:00:00 AM  04/15/2016 08:55:02 AM  41.963325 -87.763324   \n",
       "08/03/2007 04:30:00 PM  04/15/2016 08:55:02 AM  41.884930 -87.627920   \n",
       "07/29/2007 10:02:00 AM  04/15/2016 08:55:02 AM  41.752567 -87.578448   \n",
       "\n",
       "                                             Location  \n",
       "Date                                                   \n",
       "08/07/2007 05:00:00 PM  (41.706601577, -87.668010676)  \n",
       "08/07/2007 09:00:00 PM   (41.77455706, -87.600931147)  \n",
       "08/03/2007 10:00:00 AM  (41.963324609, -87.763324045)  \n",
       "08/03/2007 04:30:00 PM  (41.884930201, -87.627919724)  \n",
       "07/29/2007 10:02:00 AM  (41.752566947, -87.578448404)  \n",
       "\n",
       "[5 rows x 21 columns]"
      ]
     },
     "execution_count": 11,
     "metadata": {},
     "output_type": "execute_result"
    }
   ],
   "source": [
    "#Print the output\n",
    "df.head()"
   ]
  },
  {
   "cell_type": "code",
   "execution_count": 4,
   "metadata": {
    "collapsed": false
   },
   "outputs": [],
   "source": [
    "#Limiting the data for last 5 years\n",
    "df = df[df['Year'] > 2011]"
   ]
  },
  {
   "cell_type": "code",
   "execution_count": 5,
   "metadata": {
    "collapsed": false
   },
   "outputs": [],
   "source": [
    "#Converting index to datetime object\n",
    "df.index = pd.to_datetime(df.index)"
   ]
  },
  {
   "cell_type": "code",
   "execution_count": 6,
   "metadata": {
    "collapsed": false,
    "scrolled": true
   },
   "outputs": [
    {
     "data": {
      "text/plain": [
       "Date\n",
       "2016-05-07 15:45:00    True\n",
       "2016-05-07 16:15:00    True\n",
       "2016-05-07 13:20:00    True\n",
       "2016-05-07 19:50:00    True\n",
       "2016-05-07 14:39:00    True\n",
       "Name: Domestic, dtype: bool"
      ]
     },
     "execution_count": 6,
     "metadata": {},
     "output_type": "execute_result"
    }
   ],
   "source": [
    "#Lets try to find out more about domestic Violence\n",
    "domestic_yearly = df[df['Domestic']== True]['Domestic']\n",
    "domestic_yearly.head()"
   ]
  },
  {
   "cell_type": "code",
   "execution_count": 9,
   "metadata": {
    "collapsed": false
   },
   "outputs": [
    {
     "data": {
      "image/png": "[encoded data removed]",
      "text/plain": [
       "<matplotlib.figure.Figure at 0x1765f26c588>"
      ]
     },
     "metadata": {},
     "output_type": "display_data"
    },
    {
     "data": {
      "text/plain": [
       "<matplotlib.figure.Figure at 0x1765f31f940>"
      ]
     },
     "metadata": {},
     "output_type": "display_data"
    }
   ],
   "source": [
    "#Monthly domestic violence\n",
    "domestic_yearly.resample('M').sum().plot()\n",
    "plt.title('Monthly domestic violence')\n",
    "plt.show()\n",
    "if not os.path.exists('ana_4'):\n",
    "    os.makedirs('ana_4')\n",
    "plt.savefig('ana_4/Monthly domestic violence')"
   ]
  },
  {
   "cell_type": "markdown",
   "metadata": {
    "collapsed": true
   },
   "source": [
    "### Inference\n",
    "- We can observe a higher rates of Crime in the mid year of each year.\n",
    "- The higher rate of crime activity during April-August, might be due to the fact that it's the summer period where people are always outside and more vulnerable to attacks from perps."
   ]
  },
  {
   "cell_type": "code",
   "execution_count": null,
   "metadata": {
    "collapsed": true
   },
   "outputs": [],
   "source": []
  }
 ],
 "metadata": {
  "anaconda-cloud": {},
  "kernelspec": {
   "display_name": "Python [default]",
   "language": "python",
   "name": "python3"
  },
  "language_info": {
   "codemirror_mode": {
    "name": "ipython",
    "version": 3
   },
   "file_extension": ".py",
   "mimetype": "text/x-python",
   "name": "python",
   "nbconvert_exporter": "python",
   "pygments_lexer": "ipython3",
   "version": "3.5.2"
  }
 },
 "nbformat": 4,
 "nbformat_minor": 2
}
