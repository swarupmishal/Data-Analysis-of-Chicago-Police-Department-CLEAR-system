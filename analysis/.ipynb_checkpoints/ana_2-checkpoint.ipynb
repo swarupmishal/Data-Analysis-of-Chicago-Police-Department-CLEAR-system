{
 "cells": [
  {
   "cell_type": "markdown",
   "metadata": {},
   "source": [
    "# Analysis 2\n",
    "## Analyzing Crime Activity vs Arrest Activity for the past 5 years"
   ]
  },
  {
   "cell_type": "code",
   "execution_count": 1,
   "metadata": {
    "collapsed": true
   },
   "outputs": [],
   "source": [
    "#Import the required packages\n",
    "import numpy as np\n",
    "import pandas as pd\n",
    "import matplotlib.pyplot as plt\n",
    "import seaborn as sns\n",
    "import os\n",
    "%matplotlib inline"
   ]
  },
  {
   "cell_type": "code",
   "execution_count": 2,
   "metadata": {
    "collapsed": false
   },
   "outputs": [],
   "source": [
    "#Read the input file\n",
    "df = pd.read_csv('../data/raw_data/Crimes_-_2001_to_present.csv')"
   ]
  },
  {
   "cell_type": "code",
   "execution_count": 3,
   "metadata": {
    "collapsed": false
   },
   "outputs": [
    {
     "data": {
      "text/html": [
       "<div>\n",
       "<table border=\"1\" class=\"dataframe\">\n",
       "  <thead>\n",
       "    <tr style=\"text-align: right;\">\n",
       "      <th></th>\n",
       "      <th>ID</th>\n",
       "      <th>Case Number</th>\n",
       "      <th>Date</th>\n",
       "      <th>Block</th>\n",
       "      <th>IUCR</th>\n",
       "      <th>Primary Type</th>\n",
       "      <th>Description</th>\n",
       "      <th>Location Description</th>\n",
       "      <th>Arrest</th>\n",
       "      <th>Domestic</th>\n",
       "      <th>...</th>\n",
       "      <th>Ward</th>\n",
       "      <th>Community Area</th>\n",
       "      <th>FBI Code</th>\n",
       "      <th>X Coordinate</th>\n",
       "      <th>Y Coordinate</th>\n",
       "      <th>Year</th>\n",
       "      <th>Updated On</th>\n",
       "      <th>Latitude</th>\n",
       "      <th>Longitude</th>\n",
       "      <th>Location</th>\n",
       "    </tr>\n",
       "  </thead>\n",
       "  <tbody>\n",
       "    <tr>\n",
       "      <th>0</th>\n",
       "      <td>5708019</td>\n",
       "      <td>HN516812</td>\n",
       "      <td>08/07/2007 05:00:00 PM</td>\n",
       "      <td>018XX W 103RD ST</td>\n",
       "      <td>1310</td>\n",
       "      <td>CRIMINAL DAMAGE</td>\n",
       "      <td>TO PROPERTY</td>\n",
       "      <td>CONSTRUCTION SITE</td>\n",
       "      <td>False</td>\n",
       "      <td>False</td>\n",
       "      <td>...</td>\n",
       "      <td>19.0</td>\n",
       "      <td>72.0</td>\n",
       "      <td>14</td>\n",
       "      <td>1165922.0</td>\n",
       "      <td>1836379.0</td>\n",
       "      <td>2007</td>\n",
       "      <td>04/15/2016 08:55:02 AM</td>\n",
       "      <td>41.706602</td>\n",
       "      <td>-87.668011</td>\n",
       "      <td>(41.706601577, -87.668010676)</td>\n",
       "    </tr>\n",
       "    <tr>\n",
       "      <th>1</th>\n",
       "      <td>5708022</td>\n",
       "      <td>HN515380</td>\n",
       "      <td>08/07/2007 09:00:00 PM</td>\n",
       "      <td>066XX S ELLIS AVE</td>\n",
       "      <td>1811</td>\n",
       "      <td>NARCOTICS</td>\n",
       "      <td>POSS: CANNABIS 30GMS OR LESS</td>\n",
       "      <td>SCHOOL, PUBLIC, BUILDING</td>\n",
       "      <td>False</td>\n",
       "      <td>False</td>\n",
       "      <td>...</td>\n",
       "      <td>5.0</td>\n",
       "      <td>42.0</td>\n",
       "      <td>18</td>\n",
       "      <td>1184028.0</td>\n",
       "      <td>1861290.0</td>\n",
       "      <td>2007</td>\n",
       "      <td>04/15/2016 08:55:02 AM</td>\n",
       "      <td>41.774557</td>\n",
       "      <td>-87.600931</td>\n",
       "      <td>(41.77455706, -87.600931147)</td>\n",
       "    </tr>\n",
       "    <tr>\n",
       "      <th>2</th>\n",
       "      <td>5708025</td>\n",
       "      <td>HN516837</td>\n",
       "      <td>08/03/2007 10:00:00 AM</td>\n",
       "      <td>054XX W WINDSOR AVE</td>\n",
       "      <td>1310</td>\n",
       "      <td>CRIMINAL DAMAGE</td>\n",
       "      <td>TO PROPERTY</td>\n",
       "      <td>RESIDENCE</td>\n",
       "      <td>False</td>\n",
       "      <td>False</td>\n",
       "      <td>...</td>\n",
       "      <td>45.0</td>\n",
       "      <td>15.0</td>\n",
       "      <td>14</td>\n",
       "      <td>1139275.0</td>\n",
       "      <td>1929741.0</td>\n",
       "      <td>2007</td>\n",
       "      <td>04/15/2016 08:55:02 AM</td>\n",
       "      <td>41.963325</td>\n",
       "      <td>-87.763324</td>\n",
       "      <td>(41.963324609, -87.763324045)</td>\n",
       "    </tr>\n",
       "    <tr>\n",
       "      <th>3</th>\n",
       "      <td>5708028</td>\n",
       "      <td>HN516787</td>\n",
       "      <td>08/03/2007 04:30:00 PM</td>\n",
       "      <td>001XX N STATE ST</td>\n",
       "      <td>0820</td>\n",
       "      <td>THEFT</td>\n",
       "      <td>$500 AND UNDER</td>\n",
       "      <td>GROCERY FOOD STORE</td>\n",
       "      <td>False</td>\n",
       "      <td>False</td>\n",
       "      <td>...</td>\n",
       "      <td>42.0</td>\n",
       "      <td>32.0</td>\n",
       "      <td>06</td>\n",
       "      <td>1176336.0</td>\n",
       "      <td>1901448.0</td>\n",
       "      <td>2007</td>\n",
       "      <td>04/15/2016 08:55:02 AM</td>\n",
       "      <td>41.884930</td>\n",
       "      <td>-87.627920</td>\n",
       "      <td>(41.884930201, -87.627919724)</td>\n",
       "    </tr>\n",
       "    <tr>\n",
       "      <th>4</th>\n",
       "      <td>5708029</td>\n",
       "      <td>HN495945</td>\n",
       "      <td>07/29/2007 10:02:00 AM</td>\n",
       "      <td>078XX S BENNETT AVE</td>\n",
       "      <td>2017</td>\n",
       "      <td>NARCOTICS</td>\n",
       "      <td>MANU/DELIVER:CRACK</td>\n",
       "      <td>VEHICLE NON-COMMERCIAL</td>\n",
       "      <td>True</td>\n",
       "      <td>False</td>\n",
       "      <td>...</td>\n",
       "      <td>8.0</td>\n",
       "      <td>43.0</td>\n",
       "      <td>18</td>\n",
       "      <td>1190231.0</td>\n",
       "      <td>1853330.0</td>\n",
       "      <td>2007</td>\n",
       "      <td>04/15/2016 08:55:02 AM</td>\n",
       "      <td>41.752567</td>\n",
       "      <td>-87.578448</td>\n",
       "      <td>(41.752566947, -87.578448404)</td>\n",
       "    </tr>\n",
       "  </tbody>\n",
       "</table>\n",
       "<p>5 rows × 22 columns</p>\n",
       "</div>"
      ],
      "text/plain": [
       "        ID Case Number                    Date                Block  IUCR  \\\n",
       "0  5708019    HN516812  08/07/2007 05:00:00 PM     018XX W 103RD ST  1310   \n",
       "1  5708022    HN515380  08/07/2007 09:00:00 PM    066XX S ELLIS AVE  1811   \n",
       "2  5708025    HN516837  08/03/2007 10:00:00 AM  054XX W WINDSOR AVE  1310   \n",
       "3  5708028    HN516787  08/03/2007 04:30:00 PM     001XX N STATE ST  0820   \n",
       "4  5708029    HN495945  07/29/2007 10:02:00 AM  078XX S BENNETT AVE  2017   \n",
       "\n",
       "      Primary Type                   Description      Location Description  \\\n",
       "0  CRIMINAL DAMAGE                   TO PROPERTY         CONSTRUCTION SITE   \n",
       "1        NARCOTICS  POSS: CANNABIS 30GMS OR LESS  SCHOOL, PUBLIC, BUILDING   \n",
       "2  CRIMINAL DAMAGE                   TO PROPERTY                 RESIDENCE   \n",
       "3            THEFT                $500 AND UNDER        GROCERY FOOD STORE   \n",
       "4        NARCOTICS            MANU/DELIVER:CRACK    VEHICLE NON-COMMERCIAL   \n",
       "\n",
       "  Arrest Domestic              ...                Ward  Community Area  \\\n",
       "0  False    False              ...                19.0            72.0   \n",
       "1  False    False              ...                 5.0            42.0   \n",
       "2  False    False              ...                45.0            15.0   \n",
       "3  False    False              ...                42.0            32.0   \n",
       "4   True    False              ...                 8.0            43.0   \n",
       "\n",
       "   FBI Code  X Coordinate Y Coordinate  Year              Updated On  \\\n",
       "0        14     1165922.0    1836379.0  2007  04/15/2016 08:55:02 AM   \n",
       "1        18     1184028.0    1861290.0  2007  04/15/2016 08:55:02 AM   \n",
       "2        14     1139275.0    1929741.0  2007  04/15/2016 08:55:02 AM   \n",
       "3        06     1176336.0    1901448.0  2007  04/15/2016 08:55:02 AM   \n",
       "4        18     1190231.0    1853330.0  2007  04/15/2016 08:55:02 AM   \n",
       "\n",
       "    Latitude  Longitude                       Location  \n",
       "0  41.706602 -87.668011  (41.706601577, -87.668010676)  \n",
       "1  41.774557 -87.600931   (41.77455706, -87.600931147)  \n",
       "2  41.963325 -87.763324  (41.963324609, -87.763324045)  \n",
       "3  41.884930 -87.627920  (41.884930201, -87.627919724)  \n",
       "4  41.752567 -87.578448  (41.752566947, -87.578448404)  \n",
       "\n",
       "[5 rows x 22 columns]"
      ]
     },
     "execution_count": 3,
     "metadata": {},
     "output_type": "execute_result"
    }
   ],
   "source": [
    "#Print the input\n",
    "df.head()"
   ]
  },
  {
   "cell_type": "code",
   "execution_count": 4,
   "metadata": {
    "collapsed": false
   },
   "outputs": [],
   "source": [
    "#Limiting the data for last 5 years\n",
    "df = df[df['Year'] > 2011]"
   ]
  },
  {
   "cell_type": "code",
   "execution_count": 6,
   "metadata": {
    "collapsed": false
   },
   "outputs": [
    {
     "data": {
      "text/html": [
       "<div>\n",
       "<table border=\"1\" class=\"dataframe\">\n",
       "  <thead>\n",
       "    <tr style=\"text-align: right;\">\n",
       "      <th></th>\n",
       "      <th>Year</th>\n",
       "      <th>Count</th>\n",
       "    </tr>\n",
       "  </thead>\n",
       "  <tbody>\n",
       "    <tr>\n",
       "      <th>0</th>\n",
       "      <td>2012</td>\n",
       "      <td>335712</td>\n",
       "    </tr>\n",
       "    <tr>\n",
       "      <th>1</th>\n",
       "      <td>2013</td>\n",
       "      <td>306736</td>\n",
       "    </tr>\n",
       "    <tr>\n",
       "      <th>2</th>\n",
       "      <td>2014</td>\n",
       "      <td>274635</td>\n",
       "    </tr>\n",
       "    <tr>\n",
       "      <th>3</th>\n",
       "      <td>2015</td>\n",
       "      <td>263181</td>\n",
       "    </tr>\n",
       "    <tr>\n",
       "      <th>4</th>\n",
       "      <td>2016</td>\n",
       "      <td>266940</td>\n",
       "    </tr>\n",
       "    <tr>\n",
       "      <th>5</th>\n",
       "      <td>2017</td>\n",
       "      <td>68090</td>\n",
       "    </tr>\n",
       "  </tbody>\n",
       "</table>\n",
       "</div>"
      ],
      "text/plain": [
       "   Year   Count\n",
       "0  2012  335712\n",
       "1  2013  306736\n",
       "2  2014  274635\n",
       "3  2015  263181\n",
       "4  2016  266940\n",
       "5  2017   68090"
      ]
     },
     "execution_count": 6,
     "metadata": {},
     "output_type": "execute_result"
    }
   ],
   "source": [
    "#Calculating count of total crimes which took place in entire year.\n",
    "crime_activity = pd.DataFrame(df.groupby('Year').size().rename('Count').reset_index())\n",
    "if not os.path.exists('ana_2'):\n",
    "    os.makedirs('ana_2')\n",
    "crime_activity.to_csv('ana_2/Count of Criminal Activity in last 5 years.csv')\n",
    "crime_activity"
   ]
  },
  {
   "cell_type": "code",
   "execution_count": 7,
   "metadata": {
    "collapsed": false
   },
   "outputs": [
    {
     "data": {
      "text/html": [
       "<div>\n",
       "<table border=\"1\" class=\"dataframe\">\n",
       "  <thead>\n",
       "    <tr style=\"text-align: right;\">\n",
       "      <th></th>\n",
       "      <th>Year</th>\n",
       "      <th>Count</th>\n",
       "    </tr>\n",
       "  </thead>\n",
       "  <tbody>\n",
       "    <tr>\n",
       "      <th>0</th>\n",
       "      <td>2012</td>\n",
       "      <td>90529</td>\n",
       "    </tr>\n",
       "    <tr>\n",
       "      <th>1</th>\n",
       "      <td>2013</td>\n",
       "      <td>86378</td>\n",
       "    </tr>\n",
       "    <tr>\n",
       "      <th>2</th>\n",
       "      <td>2014</td>\n",
       "      <td>79197</td>\n",
       "    </tr>\n",
       "    <tr>\n",
       "      <th>3</th>\n",
       "      <td>2015</td>\n",
       "      <td>69496</td>\n",
       "    </tr>\n",
       "    <tr>\n",
       "      <th>4</th>\n",
       "      <td>2016</td>\n",
       "      <td>51606</td>\n",
       "    </tr>\n",
       "    <tr>\n",
       "      <th>5</th>\n",
       "      <td>2017</td>\n",
       "      <td>13083</td>\n",
       "    </tr>\n",
       "  </tbody>\n",
       "</table>\n",
       "</div>"
      ],
      "text/plain": [
       "   Year  Count\n",
       "0  2012  90529\n",
       "1  2013  86378\n",
       "2  2014  79197\n",
       "3  2015  69496\n",
       "4  2016  51606\n",
       "5  2017  13083"
      ]
     },
     "execution_count": 7,
     "metadata": {},
     "output_type": "execute_result"
    }
   ],
   "source": [
    "#Calculating count of total arrests which took place in entire year.\n",
    "arrest = df[['Year','Arrest']]\n",
    "arrest_new = arrest[arrest['Arrest'] == True]\n",
    "arrest_activity = pd.DataFrame(arrest_new.groupby('Year').size().rename('Count').reset_index())\n",
    "if not os.path.exists('ana_2'):\n",
    "    os.makedirs('ana_2')\n",
    "arrest_activity.to_csv('ana_2/Count of Arrest Activity in last 5 years.csv')\n",
    "arrest_activity"
   ]
  },
  {
   "cell_type": "code",
   "execution_count": 11,
   "metadata": {
    "collapsed": false
   },
   "outputs": [
    {
     "data": {
      "image/png": "[encoded data removed]",
      "text/plain": [
       "<matplotlib.figure.Figure at 0x1968aff1b70>"
      ]
     },
     "metadata": {},
     "output_type": "display_data"
    }
   ],
   "source": [
    "#Plotting the graph\n",
    "x=['2012','2013','2014','2015','2016','2017']\n",
    "y=crime_activity['Count']\n",
    "z=arrest_activity['Count']\n",
    "fig = plt.figure()\n",
    "ax = fig.add_axes([0,0,1,1])\n",
    "ax.plot(x,y,label='Crime Activity')\n",
    "ax.plot(x,z,label='Arrests')\n",
    "ax.set_ylabel(\"COUNT\")\n",
    "ax.set_xlabel(\"YEAR\")\n",
    "ax.set_title(\"Crime Activity VS Arrests from 2012 - 2017\")\n",
    "ax.legend()\n",
    "if not os.path.exists('ana_2'):\n",
    "    os.makedirs('ana_2')\n",
    "plt.savefig('ana_2/Crime Activity VS Arrests from 2012 - 2017.png')"
   ]
  },
  {
   "cell_type": "markdown",
   "metadata": {
    "collapsed": true
   },
   "source": [
    "### Inference\n",
    "- So from the line plot above, truly there has been a decrease in criminal activity over the last five years which has lead to fewer arrests.\n",
    "- Also there is a wide gap between arrests and crime activity, of about 250,000 difference in crime activity and arrests, except for the year 2017 for obvious reasons of not having data for entire year."
   ]
  },
  {
   "cell_type": "code",
   "execution_count": null,
   "metadata": {
    "collapsed": true
   },
   "outputs": [],
   "source": []
  }
 ],
 "metadata": {
  "anaconda-cloud": {},
  "kernelspec": {
   "display_name": "Python [default]",
   "language": "python",
   "name": "python3"
  },
  "language_info": {
   "codemirror_mode": {
    "name": "ipython",
    "version": 3
   },
   "file_extension": ".py",
   "mimetype": "text/x-python",
   "name": "python",
   "nbconvert_exporter": "python",
   "pygments_lexer": "ipython3",
   "version": "3.5.2"
  }
 },
 "nbformat": 4,
 "nbformat_minor": 2
}
